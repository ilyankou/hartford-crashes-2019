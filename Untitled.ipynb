{
 "cells": [
  {
   "cell_type": "code",
   "execution_count": 19,
   "metadata": {},
   "outputs": [],
   "source": [
    "import pandas as pd\n",
    "import folium\n",
    "from folium.plugins import HeatMap"
   ]
  },
  {
   "cell_type": "code",
   "execution_count": 14,
   "metadata": {},
   "outputs": [
    {
     "name": "stderr",
     "output_type": "stream",
     "text": [
      "/Users/ilyankou/anaconda3/lib/python3.7/site-packages/IPython/core/interactiveshell.py:3057: DtypeWarning: Columns (84) have mixed types. Specify dtype option on import or set low_memory=False.\n",
      "  interactivity=interactivity, compiler=compiler, result=result)\n"
     ]
    }
   ],
   "source": [
    "crashes = pd.read_csv('raw/export_42429/export_42429_0.csv', skiprows=1)"
   ]
  },
  {
   "cell_type": "code",
   "execution_count": 15,
   "metadata": {},
   "outputs": [],
   "source": [
    "crashes_2019 = crashes[ crashes['Date Of Crash'] >= '2019-01-01' ]"
   ]
  },
  {
   "cell_type": "code",
   "execution_count": 76,
   "metadata": {},
   "outputs": [],
   "source": [
    "m = folium.Map([41.77, -72.68], tiles='stamentoner', zoom_start=13, min_zoom=11)\n",
    "\n",
    "inj_all = HeatMap(crashes_2019.filter(['Latitude', 'Longitude']), radius=12, max_val=0.5)\n",
    "\n",
    "#m.save('./2019.html')"
   ]
  },
  {
   "cell_type": "code",
   "execution_count": 68,
   "metadata": {},
   "outputs": [
    {
     "data": {
      "text/plain": [
       "No Apparent Injury (O)          4553\n",
       "Possible Injury (C)              890\n",
       "Suspected Minor Injury (B)       635\n",
       "Suspected Serious Injury (A)      61\n",
       "Fatal Injury (K)                  13\n",
       "Name: Most Severe Injury Text Format, dtype: int64"
      ]
     },
     "execution_count": 68,
     "metadata": {},
     "output_type": "execute_result"
    }
   ],
   "source": [
    "crashes_2019['Most Severe Injury Text Format'].value_counts()"
   ]
  },
  {
   "cell_type": "code",
   "execution_count": 126,
   "metadata": {},
   "outputs": [],
   "source": [
    "m = folium.Map(\n",
    "    [41.77, -72.68],\n",
    "    tiles=None,\n",
    "    zoom_control=True\n",
    ")\n",
    "\n",
    "folium.TileLayer(\n",
    "    tiles='stamentoner',\n",
    "    control=False,\n",
    "    zoom_start=13,\n",
    "    min_zoom=13\n",
    ").add_to(m)\n",
    "\n",
    "inj_all = HeatMap(\n",
    "    crashes_2019.filter(['Latitude', 'Longitude']),\n",
    "    radius=12,\n",
    "    max_val=1,\n",
    "    overlay=False,\n",
    "    name='All crashes'\n",
    ").add_to(m)\n",
    "\n",
    "inj_possible = HeatMap(\n",
    "    crashes_2019[crashes_2019['Most Severe Injury Text Format'] == 'Possible Injury (C)'].filter(['Latitude', 'Longitude']),\n",
    "    radius=18,\n",
    "    max_val=1,\n",
    "    overlay=False,\n",
    "    name='Crashes with possible injury'\n",
    ").add_to(m)\n",
    "\n",
    "inj_minor = HeatMap(\n",
    "    crashes_2019[crashes_2019['Most Severe Injury Text Format'] == 'Suspected Minor Injury (B)'].filter(['Latitude', 'Longitude']),\n",
    "    radius=20,\n",
    "    max_val=1,\n",
    "    overlay=False,\n",
    "    name='Crashes with suspected minor injury'\n",
    ").add_to(m)\n",
    "\n",
    "inj_minor = HeatMap(\n",
    "    crashes_2019[crashes_2019['Most Severe Injury Text Format'] == 'Suspected Serious Injury (A)'].filter(['Latitude', 'Longitude']),\n",
    "    radius=40,\n",
    "    max_val=1,\n",
    "    overlay=False,\n",
    "    name='Crashes with suspected serious injury'\n",
    ").add_to(m)\n",
    "\n",
    "inj_kill = HeatMap(\n",
    "    crashes_2019[crashes_2019['Most Severe Injury Text Format'] == 'Fatal Injury (K)'].filter(['Latitude', 'Longitude']),\n",
    "    radius=80,\n",
    "    max_val=1,\n",
    "    overlay=False,\n",
    "    name='Crashes with fatalities'\n",
    ").add_to(m)\n",
    "\n",
    "\n",
    "folium.LayerControl(collapsed=False, position='topright').add_to(m)\n",
    "\n",
    "m\n",
    "\n",
    "m.save('./index.html')"
   ]
  },
  {
   "cell_type": "code",
   "execution_count": null,
   "metadata": {},
   "outputs": [],
   "source": []
  },
  {
   "cell_type": "code",
   "execution_count": null,
   "metadata": {},
   "outputs": [],
   "source": []
  }
 ],
 "metadata": {
  "kernelspec": {
   "display_name": "Python 3",
   "language": "python",
   "name": "python3"
  },
  "language_info": {
   "codemirror_mode": {
    "name": "ipython",
    "version": 3
   },
   "file_extension": ".py",
   "mimetype": "text/x-python",
   "name": "python",
   "nbconvert_exporter": "python",
   "pygments_lexer": "ipython3",
   "version": "3.7.3"
  }
 },
 "nbformat": 4,
 "nbformat_minor": 4
}
